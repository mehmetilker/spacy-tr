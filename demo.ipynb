{
 "cells": [
  {
   "cell_type": "code",
   "execution_count": null,
   "metadata": {
    "colab": {},
    "colab_type": "code",
    "id": "UNzGgjbzdlcY"
   },
   "outputs": [],
   "source": [
    "import spacy\n",
    "nlp = spacy.load('models\\model-best')"
   ]
  },
  {
   "cell_type": "code",
   "execution_count": null,
   "metadata": {
    "colab": {},
    "colab_type": "code",
    "id": "qunKFu4Udlc-",
    "outputId": "ec2e57a5-e105-43d1-a2b1-76cd4075ae2b"
   },
   "outputs": [],
   "source": [
    "# Print the names of the pipeline components\n",
    "print(nlp.pipe_names)\n",
    "\n",
    "# Print the full pipeline of (name, component) tuples\n",
    "print(nlp.pipeline)"
   ]
  },
  {
   "cell_type": "code",
   "execution_count": null,
   "metadata": {
    "colab": {},
    "colab_type": "code",
    "id": "jqMqzkavdldc",
    "outputId": "fe89fdbb-91b2-438a-af11-a3219b810a4f"
   },
   "outputs": [],
   "source": [
    "# List the tokens\n",
    "doc = nlp(\"Bu bir sade cümle ise diğer İstanbul içeren bir cümledir.\")\n",
    "for token in doc:\n",
    "    print(token.text, '\\t\\t', token.lemma_, '\\t\\t', token.pos_)"
   ]
  },
  {
   "cell_type": "code",
   "execution_count": null,
   "metadata": {
    "colab": {},
    "colab_type": "code",
    "id": "9JJ-BTfTdldy",
    "outputId": "bd6c4e42-29c7-41cd-960b-66091645c79b"
   },
   "outputs": [],
   "source": [
    "# Tokenization, Tagging, Lemmatization and Dependency Parsing in a pretty table\n",
    "import pandas as pd\n",
    "\n",
    "attribs = ['orth_', 'lemma_', 'tag_', 'pos_', 'dep_', 'head']\n",
    "table = [{att:tok.__getattribute__(att) for att in attribs} for tok in doc]\n",
    "df = pd.DataFrame(table)\n",
    "print(df[attribs])"
   ]
  },
  {
   "cell_type": "code",
   "execution_count": null,
   "metadata": {
    "colab": {},
    "colab_type": "code",
    "id": "-JWbkgtEdleH",
    "outputId": "7b770748-a840-4368-9a06-f7d6d0abfc1b"
   },
   "outputs": [],
   "source": [
    "# Play with the pos values\n",
    "for token in doc:\n",
    "    # Check if the current token is a proper noun\n",
    "    if token.pos_ == \"ADJ\":\n",
    "        # Check if the next token is a verb\n",
    "        if doc[token.i + 1].pos_ == \"NOUN\":\n",
    "            print(\"Found adjective before a noun:\", token.text)"
   ]
  },
  {
   "cell_type": "code",
   "execution_count": null,
   "metadata": {
    "colab": {},
    "colab_type": "code",
    "id": "lg9Ees4zdlee",
    "outputId": "2be2f3e4-d274-473c-d7e6-adbae4417ddb"
   },
   "outputs": [],
   "source": [
    "# DEP visualization\n",
    "from spacy import displacy\n",
    "displacy.render(doc, style=\"dep\")"
   ]
  },
  {
   "cell_type": "code",
   "execution_count": null,
   "metadata": {},
   "outputs": [],
   "source": [
    "# Parsing multiple sentences\n",
    "doc = nlp(\"Bu bir cümle. Bu da başka bir cümle.\")\n",
    "for sent in doc.sents:\n",
    "    print(sent)"
   ]
  },
  {
   "cell_type": "code",
   "execution_count": null,
   "metadata": {},
   "outputs": [],
   "source": [
    "displacy.render(doc, style = 'dep', options = {\"compact\": True})"
   ]
  },
  {
   "cell_type": "code",
   "execution_count": null,
   "metadata": {
    "colab": {},
    "colab_type": "code",
    "id": "Tm8QRNizdlez",
    "outputId": "5b8a2302-bbbd-4b87-a0d5-b89eed7df59b"
   },
   "outputs": [],
   "source": [
    "# Named entities\n",
    "doc = nlp(\"Şimdilik ER yok.\") # ~Rzeczpospolita \n",
    "\n",
    "for entity in doc.ents:\n",
    "    print(entity.text, entity.label_)"
   ]
  },
  {
   "cell_type": "code",
   "execution_count": null,
   "metadata": {
    "colab": {},
    "colab_type": "code",
    "id": "1TJsZjsTdlfD",
    "outputId": "d557d7d9-883c-4636-be53-a95a9b1bb457"
   },
   "outputs": [],
   "source": [
    "# NER visualization\n",
    "displacy.render(doc, style=\"ent\")"
   ]
  },
  {
   "cell_type": "code",
   "execution_count": null,
   "metadata": {
    "colab": {},
    "colab_type": "code",
    "id": "SlFEI1_Cdlfa",
    "outputId": "20a53448-468d-4db9-d2c7-18a332acf550"
   },
   "outputs": [],
   "source": [
    "# Simple token attributes\n",
    "for token in doc:\n",
    "    # Check if the token resembles a number\n",
    "    if token.like_num:\n",
    "        print(token)"
   ]
  },
  {
   "cell_type": "code",
   "execution_count": null,
   "metadata": {},
   "outputs": [],
   "source": []
  }
 ],
 "metadata": {
  "colab": {
   "name": "demo.ipynb",
   "provenance": []
  },
  "kernelspec": {
   "display_name": "Python 3.8.2 64-bit ('.env': venv)",
   "language": "python",
   "name": "python37664bitenvvenv85feb01c6ed340c9afb9a44a16e7ba0b"
  },
  "language_info": {
   "codemirror_mode": {
    "name": "ipython",
    "version": 3
   },
   "file_extension": ".py",
   "mimetype": "text/x-python",
   "name": "python",
   "nbconvert_exporter": "python",
   "pygments_lexer": "ipython3",
   "version": "3.7.6-final"
  }
 },
 "nbformat": 4,
 "nbformat_minor": 1
}